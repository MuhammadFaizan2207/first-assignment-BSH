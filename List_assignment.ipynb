{
  "cells": [
    {
      "cell_type": "markdown",
      "metadata": {
        "id": "7RwrVVKyyLBG"
      },
      "source": [
        "#Q1:\n",
        "sum the numbers in the list.\n",
        "[2,3,90,89,45,09]"
      ]
    },
    {
      "cell_type": "code",
      "execution_count": null,
      "metadata": {
        "id": "DwqmnkAoxkXF"
      },
      "outputs": [],
      "source": [
        "var = [2,3,90,89,45,9]\n",
        "var1 = sum(var)\n",
        "print(var1)\n"
      ]
    },
    {
      "cell_type": "markdown",
      "metadata": {
        "id": "vr61CX9syiL3"
      },
      "source": [
        "# Q2:\n",
        "Add the following data in list above.\n",
        "1. python\n",
        "2. 5.9\n",
        "3. follow\n",
        "4. [math, 20]\n",
        "5. [English,80]\n"
      ]
    },
    {
      "cell_type": "code",
      "execution_count": 2,
      "metadata": {
        "id": "zQzew7FlzCDX"
      },
      "outputs": [],
      "source": [
        "var = ['python']\n",
        "var.append(5.9)\n",
        "var.append('follow')\n",
        "var.append(['math',20])\n",
        "var.append(['English',80])\n",
        "print(var)\n",
        "\n"
      ]
    },
    {
      "cell_type": "markdown",
      "metadata": {
        "id": "m4n1sBk8zDae"
      },
      "source": [
        "# Q 3:\n",
        "Remove the last element from the following list.\n",
        "\n",
        "[hyder,8,badin,67,50]"
      ]
    },
    {
      "cell_type": "code",
      "execution_count": 3,
      "metadata": {
        "id": "29oVCt9mzUwx"
      },
      "outputs": [],
      "source": [
        "\n",
        "var4 = ['hyder',8,'badin',67,50]\n",
        "var4.pop()\n",
        "print(var4)"
      ]
    },
    {
      "cell_type": "markdown",
      "metadata": {
        "id": "A95XSdYZzaB3"
      },
      "source": [
        "#Q 4: \n",
        "Remove the Egg string from the list below.\n",
        "\n",
        "[flour,30,sugar,90,egg,2,salt,100,gold,10]"
      ]
    },
    {
      "cell_type": "code",
      "execution_count": 4,
      "metadata": {
        "id": "HwjaEF2xzvs1"
      },
      "outputs": [],
      "source": [
        "\n",
        "var5 = ['flour',30,'sugar',90,'egg',2,'salt',100,'gold',10]\n",
        "var5.remove('egg')\n",
        "print(var5)"
      ]
    },
    {
      "cell_type": "markdown",
      "metadata": {
        "id": "VK6WcIr3z0T_"
      },
      "source": [
        "# Q5:\n",
        "Merge the lists from the following.\n",
        "\n",
        "list1 = [8,9,0,90,2,100]\n",
        "\n",
        "list2 = [1,2,3,4,5]"
      ]
    },
    {
      "cell_type": "code",
      "execution_count": 5,
      "metadata": {
        "id": "4J93rxZp0Hid"
      },
      "outputs": [],
      "source": [
        "\n",
        "var6 = [1,2,3,4,5]\n",
        "var7 = [8,9,0,90,2,100]\n",
        "print(var6+var7)"
      ]
    },
    {
      "cell_type": "markdown",
      "metadata": {
        "id": "WDgC1uZi0IwA"
      },
      "source": [
        "# Q6:\n",
        "Make reverse list of following lists.\n",
        "\n",
        "1. [shaheen,badin,life,19,45]\n",
        "2. [get,fight,right,light,bright]\n",
        "3. [make,cake,sake, lake, bake]\n",
        "4. [30,80,90,08,9.5]"
      ]
    },
    {
      "cell_type": "code",
      "execution_count": 6,
      "metadata": {
        "id": "81D-yWKb0u-X"
      },
      "outputs": [],
      "source": [
        "\n",
        "var6 = ['shaheen','badin','life',19,45]\n",
        "var7 = var6[::-1]\n",
        "print(var7)\n",
        "\n",
        "var8 = ['get','fight','right','light','bright']\n",
        "var9 = var8[::-1]\n",
        "print(var9)\n",
        "\n",
        "var10 = ['make','cake','sake', 'lake','bake']\n",
        "var11 = var10[::-1]\n",
        "print(var11)\n",
        "\n",
        "var12 = [30,80,90,8,9.5]\n",
        "var13 = var12[::-1]\n",
        "print(var13)"
      ]
    },
    {
      "cell_type": "markdown",
      "metadata": {
        "id": "DSO2XDAl0wNq"
      },
      "source": [
        "# Q7:\n",
        "Create a nested list. list one will be main list list 2 will be nested list.\n",
        "\n",
        "list1 = [kite,flight,55,99,66]\n",
        "list2 = [great,56,pos,light,20]"
      ]
    },
    {
      "cell_type": "code",
      "execution_count": null,
      "metadata": {
        "id": "dnFizAmP1O21"
      },
      "outputs": [],
      "source": [
        "list1 = ['kite','flight',55,99,66]\n",
        "list2 = ['great',56,'pos','light',20]\n",
        "list1.append(list2)\n",
        "print(list1)"
      ]
    },
    {
      "cell_type": "markdown",
      "metadata": {
        "id": "vMoGIzmb1QbK"
      },
      "source": [
        "# Q8:\n",
        "Extrate the \"pos\" from nested list."
      ]
    },
    {
      "cell_type": "code",
      "execution_count": 7,
      "metadata": {
        "id": "dcISZJSo1YSc"
      },
      "outputs": [],
      "source": [
        "list2 = ['kite','flight',55,99,66,['great',56,'pos','light',20]]\n",
        "vari =list2[-1][2]\n",
        "print(vari)"
      ]
    },
    {
      "cell_type": "markdown",
      "metadata": {
        "id": "c2qnnSKB1Zq_"
      },
      "source": [
        "#Q9:\n",
        "Sort the following lists in ascending order:\n",
        "\n",
        "1. [89,67,76,45,32,47,34,12,21]\n",
        "2. [r,f,t,g,y,w,c,v,k,q]"
      ]
    },
    {
      "cell_type": "code",
      "execution_count": 8,
      "metadata": {
        "id": "NHnB-p8V129y"
      },
      "outputs": [],
      "source": [
        "asd1 = [89,67,76,45,32,47,34,12,21]\n",
        "asd1.sort()\n",
        "print(asd1)\n",
        "\n",
        "asd2 = ['r','f','t','g','y','w','c','v','k','q']\n",
        "asd2.sort()\n",
        "print(asd2)"
      ]
    },
    {
      "cell_type": "markdown",
      "metadata": {},
      "source": [
        "# Q10:\n",
        "Sort the Following lists in descending order.\n",
        "\n",
        "1. [10,5,45,33,9,190,54,34]\n",
        "2. [acdf,klmn,iops,wklm,npoi]"
      ]
    },
    {
      "cell_type": "code",
      "execution_count": null,
      "metadata": {},
      "outputs": [],
      "source": [
        "asd2 = [10,5,45,33,9,190,54,34]\n",
        "asd2.sort(reverse=True)\n",
        "print(asd2)\n",
        "\n",
        "asd3 = ['acdf','klmn','iops','wklm','npoi']\n",
        "asd3.sort(reverse=True)\n",
        "print(asd3)"
      ]
    }
  ],
  "metadata": {
    "colab": {
      "provenance": []
    },
    "kernelspec": {
      "display_name": "Python 3",
      "language": "python",
      "name": "python3"
    },
    "language_info": {
      "name": "python",
      "version": "3.11.1"
    },
    "vscode": {
      "interpreter": {
        "hash": "a5f638a10038563b5b75b29706f29ab05ca8c48889b7ae06ba9bb6216c53b5d6"
      }
    }
  },
  "nbformat": 4,
  "nbformat_minor": 0
}
